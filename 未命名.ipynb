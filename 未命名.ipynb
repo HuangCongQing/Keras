{
 "cells": [
  {
   "cell_type": "code",
   "execution_count": 1,
   "metadata": {},
   "outputs": [
    {
     "name": "stderr",
     "output_type": "stream",
     "text": [
      "Using TensorFlow backend.\n"
     ]
    },
    {
     "data": {
      "text/plain": [
       "<Figure size 640x480 with 1 Axes>"
      ]
     },
     "metadata": {},
     "output_type": "display_data"
    },
    {
     "name": "stderr",
     "output_type": "stream",
     "text": [
      "WARNING: Logging before flag parsing goes to stderr.\n",
      "W0803 20:53:09.373622  8908 deprecation_wrapper.py:119] From c:\\users\\hasee\\appdata\\local\\programs\\python\\python35\\lib\\site-packages\\keras\\backend\\tensorflow_backend.py:74: The name tf.get_default_graph is deprecated. Please use tf.compat.v1.get_default_graph instead.\n",
      "\n",
      "W0803 20:53:09.404624  8908 deprecation_wrapper.py:119] From c:\\users\\hasee\\appdata\\local\\programs\\python\\python35\\lib\\site-packages\\keras\\backend\\tensorflow_backend.py:517: The name tf.placeholder is deprecated. Please use tf.compat.v1.placeholder instead.\n",
      "\n",
      "W0803 20:53:09.414624  8908 deprecation_wrapper.py:119] From c:\\users\\hasee\\appdata\\local\\programs\\python\\python35\\lib\\site-packages\\keras\\backend\\tensorflow_backend.py:4138: The name tf.random_uniform is deprecated. Please use tf.random.uniform instead.\n",
      "\n",
      "W0803 20:53:09.475628  8908 deprecation_wrapper.py:119] From c:\\users\\hasee\\appdata\\local\\programs\\python\\python35\\lib\\site-packages\\keras\\optimizers.py:790: The name tf.train.Optimizer is deprecated. Please use tf.compat.v1.train.Optimizer instead.\n",
      "\n",
      "W0803 20:53:09.716642  8908 deprecation_wrapper.py:119] From c:\\users\\hasee\\appdata\\local\\programs\\python\\python35\\lib\\site-packages\\keras\\backend\\tensorflow_backend.py:986: The name tf.assign_add is deprecated. Please use tf.compat.v1.assign_add instead.\n",
      "\n"
     ]
    },
    {
     "name": "stdout",
     "output_type": "stream",
     "text": [
      "Training -----------\n"
     ]
    },
    {
     "name": "stderr",
     "output_type": "stream",
     "text": [
      "W0803 20:53:09.757644  8908 deprecation_wrapper.py:119] From c:\\users\\hasee\\appdata\\local\\programs\\python\\python35\\lib\\site-packages\\keras\\backend\\tensorflow_backend.py:973: The name tf.assign is deprecated. Please use tf.compat.v1.assign instead.\n",
      "\n"
     ]
    },
    {
     "name": "stdout",
     "output_type": "stream",
     "text": [
      "train cost:  4.0225005\n",
      "train cost:  0.073238626\n",
      "train cost:  0.00386274\n",
      "train cost:  0.002643449\n",
      "\n",
      "Testing ------------\n",
      "40/40 [==============================] - 0s 625us/step\n",
      "test cost: 0.0031367032788693905\n",
      "Weights= [[0.4922711]] \n",
      "biases= [1.9995022]\n"
     ]
    },
    {
     "data": {
      "text/plain": [
       "<Figure size 640x480 with 1 Axes>"
      ]
     },
     "metadata": {},
     "output_type": "display_data"
    }
   ],
   "source": [
    "# 4 - Regressor example\n",
    "\n",
    "import numpy as np\n",
    "np.random.seed(1337)  # for reproducibility\n",
    "from keras.models import Sequential\n",
    "from keras.layers import Dense\n",
    "import matplotlib.pyplot as plt\n",
    "\n",
    "# create some data\n",
    "X = np.linspace(-1, 1, 200)\n",
    "np.random.shuffle(X)    # randomize the data\n",
    "Y = 0.5 * X + 2 + np.random.normal(0, 0.05, (200, ))\n",
    "# plot data\n",
    "plt.scatter(X, Y)\n",
    "plt.show()\n",
    "\n",
    "X_train, Y_train = X[:160], Y[:160]     # first 160 data points\n",
    "X_test, Y_test = X[160:], Y[160:]       # last 40 data points\n",
    "\n",
    "# build a neural network from the 1st layer to the last layer\n",
    "model = Sequential()\n",
    "\n",
    "model.add(Dense(units=1, input_dim=1)) \n",
    "\n",
    "# choose loss function and optimizing method\n",
    "model.compile(loss='mse', optimizer='sgd')\n",
    "\n",
    "# training\n",
    "print('Training -----------')\n",
    "for step in range(301):\n",
    "    cost = model.train_on_batch(X_train, Y_train)\n",
    "    if step % 100 == 0:\n",
    "        print('train cost: ', cost)\n",
    "\n",
    "# test\n",
    "print('\\nTesting ------------')\n",
    "cost = model.evaluate(X_test, Y_test, batch_size=40)\n",
    "print('test cost:', cost)\n",
    "W, b = model.layers[0].get_weights()\n",
    "print('Weights=', W, '\\nbiases=', b)\n",
    "\n",
    "# plotting the prediction\n",
    "Y_pred = model.predict(X_test)\n",
    "plt.scatter(X_test, Y_test)\n",
    "plt.plot(X_test, Y_pred)\n",
    "plt.show()"
   ]
  },
  {
   "cell_type": "code",
   "execution_count": null,
   "metadata": {},
   "outputs": [],
   "source": []
  }
 ],
 "metadata": {
  "kernelspec": {
   "display_name": "Python 3",
   "language": "python",
   "name": "python3"
  },
  "language_info": {
   "codemirror_mode": {
    "name": "ipython",
    "version": 3
   },
   "file_extension": ".py",
   "mimetype": "text/x-python",
   "name": "python",
   "nbconvert_exporter": "python",
   "pygments_lexer": "ipython3",
   "version": "3.5.4"
  }
 },
 "nbformat": 4,
 "nbformat_minor": 2
}
