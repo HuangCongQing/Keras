{
 "cells": [
  {
   "cell_type": "markdown",
   "metadata": {},
   "source": [
    "https://www.bilibili.com/video/av16910214/?p=8"
   ]
  },
  {
   "cell_type": "code",
   "execution_count": 1,
   "metadata": {},
   "outputs": [
    {
     "name": "stderr",
     "output_type": "stream",
     "text": [
      "Using TensorFlow backend.\n"
     ]
    }
   ],
   "source": [
    "# 4 - Regressor example \n",
    "\n",
    "import numpy as np\n",
    "np.random.seed(1337)  # for reproducibility\n",
    "from keras.models import Sequential\n",
    "from keras.layers import Dense\n",
    "import matplotlib.pyplot as plt\n"
   ]
  },
  {
   "cell_type": "code",
   "execution_count": 7,
   "metadata": {},
   "outputs": [
    {
     "name": "stdout",
     "output_type": "stream",
     "text": [
      "[-1.         -0.98994975 -0.9798995  -0.96984925 -0.95979899 -0.94974874\n",
      " -0.93969849 -0.92964824 -0.91959799 -0.90954774 -0.89949749 -0.88944724\n",
      " -0.87939698 -0.86934673 -0.85929648 -0.84924623 -0.83919598 -0.82914573\n",
      " -0.81909548 -0.80904523 -0.79899497 -0.78894472 -0.77889447 -0.76884422\n",
      " -0.75879397 -0.74874372 -0.73869347 -0.72864322 -0.71859296 -0.70854271\n",
      " -0.69849246 -0.68844221 -0.67839196 -0.66834171 -0.65829146 -0.64824121\n",
      " -0.63819095 -0.6281407  -0.61809045 -0.6080402  -0.59798995 -0.5879397\n",
      " -0.57788945 -0.5678392  -0.55778894 -0.54773869 -0.53768844 -0.52763819\n",
      " -0.51758794 -0.50753769 -0.49748744 -0.48743719 -0.47738693 -0.46733668\n",
      " -0.45728643 -0.44723618 -0.43718593 -0.42713568 -0.41708543 -0.40703518\n",
      " -0.39698492 -0.38693467 -0.37688442 -0.36683417 -0.35678392 -0.34673367\n",
      " -0.33668342 -0.32663317 -0.31658291 -0.30653266 -0.29648241 -0.28643216\n",
      " -0.27638191 -0.26633166 -0.25628141 -0.24623116 -0.2361809  -0.22613065\n",
      " -0.2160804  -0.20603015 -0.1959799  -0.18592965 -0.1758794  -0.16582915\n",
      " -0.15577889 -0.14572864 -0.13567839 -0.12562814 -0.11557789 -0.10552764\n",
      " -0.09547739 -0.08542714 -0.07537688 -0.06532663 -0.05527638 -0.04522613\n",
      " -0.03517588 -0.02512563 -0.01507538 -0.00502513  0.00502513  0.01507538\n",
      "  0.02512563  0.03517588  0.04522613  0.05527638  0.06532663  0.07537688\n",
      "  0.08542714  0.09547739  0.10552764  0.11557789  0.12562814  0.13567839\n",
      "  0.14572864  0.15577889  0.16582915  0.1758794   0.18592965  0.1959799\n",
      "  0.20603015  0.2160804   0.22613065  0.2361809   0.24623116  0.25628141\n",
      "  0.26633166  0.27638191  0.28643216  0.29648241  0.30653266  0.31658291\n",
      "  0.32663317  0.33668342  0.34673367  0.35678392  0.36683417  0.37688442\n",
      "  0.38693467  0.39698492  0.40703518  0.41708543  0.42713568  0.43718593\n",
      "  0.44723618  0.45728643  0.46733668  0.47738693  0.48743719  0.49748744\n",
      "  0.50753769  0.51758794  0.52763819  0.53768844  0.54773869  0.55778894\n",
      "  0.5678392   0.57788945  0.5879397   0.59798995  0.6080402   0.61809045\n",
      "  0.6281407   0.63819095  0.64824121  0.65829146  0.66834171  0.67839196\n",
      "  0.68844221  0.69849246  0.70854271  0.71859296  0.72864322  0.73869347\n",
      "  0.74874372  0.75879397  0.76884422  0.77889447  0.78894472  0.79899497\n",
      "  0.80904523  0.81909548  0.82914573  0.83919598  0.84924623  0.85929648\n",
      "  0.86934673  0.87939698  0.88944724  0.89949749  0.90954774  0.91959799\n",
      "  0.92964824  0.93969849  0.94974874  0.95979899  0.96984925  0.9798995\n",
      "  0.98994975  1.        ]\n"
     ]
    },
    {
     "data": {
      "image/png": "[encoded data removed]",
      "text/plain": [
       "<Figure size 432x288 with 1 Axes>"
      ]
     },
     "metadata": {
      "needs_background": "light"
     },
     "output_type": "display_data"
    }
   ],
   "source": [
    "\n",
    "# create some data\n",
    "X = np.linspace(-1, 1, 200) # list\n",
    "print(X)\n",
    "np.random.shuffle(X)    # randomize the data\n",
    "Y = 0.5 * X + 2 + np.random.normal(0, 0.05, (200, ))\n",
    "# plot data\n",
    "plt.scatter(X, Y) # 散点图\n",
    "plt.show()\n",
    "\n",
    "X_train, Y_train = X[:160], Y[:160]     # first 160 data points\n",
    "X_test, Y_test = X[160:], Y[160:]       # last 40 data points"
   ]
  },
  {
   "cell_type": "code",
   "execution_count": 3,
   "metadata": {},
   "outputs": [
    {
     "name": "stderr",
     "output_type": "stream",
     "text": [
      "WARNING: Logging before flag parsing goes to stderr.\n",
      "W0803 21:17:00.193460 21220 deprecation_wrapper.py:119] From c:\\users\\hasee\\appdata\\local\\programs\\python\\python35\\lib\\site-packages\\keras\\backend\\tensorflow_backend.py:74: The name tf.get_default_graph is deprecated. Please use tf.compat.v1.get_default_graph instead.\n",
      "\n",
      "W0803 21:17:00.251464 21220 deprecation_wrapper.py:119] From c:\\users\\hasee\\appdata\\local\\programs\\python\\python35\\lib\\site-packages\\keras\\backend\\tensorflow_backend.py:517: The name tf.placeholder is deprecated. Please use tf.compat.v1.placeholder instead.\n",
      "\n",
      "W0803 21:17:00.256464 21220 deprecation_wrapper.py:119] From c:\\users\\hasee\\appdata\\local\\programs\\python\\python35\\lib\\site-packages\\keras\\backend\\tensorflow_backend.py:4138: The name tf.random_uniform is deprecated. Please use tf.random.uniform instead.\n",
      "\n",
      "W0803 21:17:00.295466 21220 deprecation_wrapper.py:119] From c:\\users\\hasee\\appdata\\local\\programs\\python\\python35\\lib\\site-packages\\keras\\optimizers.py:790: The name tf.train.Optimizer is deprecated. Please use tf.compat.v1.train.Optimizer instead.\n",
      "\n"
     ]
    }
   ],
   "source": [
    "# build a neural network from the 1st layer to the last layer\n",
    "model = Sequential()\n",
    "\n",
    "model.add(Dense(units=1, input_dim=1)) \n",
    "\n",
    "# choose loss function and optimizing method\n",
    "model.compile(loss='mse', optimizer='sgd')\n"
   ]
  },
  {
   "cell_type": "code",
   "execution_count": 4,
   "metadata": {},
   "outputs": [
    {
     "name": "stdout",
     "output_type": "stream",
     "text": [
      "Training -----------\n"
     ]
    },
    {
     "name": "stderr",
     "output_type": "stream",
     "text": [
      "W0803 21:17:10.586055 21220 deprecation_wrapper.py:119] From c:\\users\\hasee\\appdata\\local\\programs\\python\\python35\\lib\\site-packages\\keras\\backend\\tensorflow_backend.py:986: The name tf.assign_add is deprecated. Please use tf.compat.v1.assign_add instead.\n",
      "\n",
      "W0803 21:17:10.612056 21220 deprecation_wrapper.py:119] From c:\\users\\hasee\\appdata\\local\\programs\\python\\python35\\lib\\site-packages\\keras\\backend\\tensorflow_backend.py:973: The name tf.assign is deprecated. Please use tf.compat.v1.assign instead.\n",
      "\n"
     ]
    },
    {
     "name": "stdout",
     "output_type": "stream",
     "text": [
      "train cost:  4.0225005\n",
      "train cost:  0.073238626\n",
      "train cost:  0.00386274\n",
      "train cost:  0.002643449\n",
      "\n",
      "Testing ------------\n",
      "40/40 [==============================] - 0s 650us/step\n",
      "test cost: 0.0031367032788693905\n",
      "Weights= [[0.4922711]] \n",
      "biases= [1.9995022]\n"
     ]
    }
   ],
   "source": [
    "# training\n",
    "print('Training -----------')\n",
    "for step in range(301):\n",
    "    cost = model.train_on_batch(X_train, Y_train)\n",
    "    if step % 100 == 0:\n",
    "        print('train cost: ', cost)\n",
    "\n",
    "# test\n",
    "print('\\nTesting ------------')\n",
    "cost = model.evaluate(X_test, Y_test, batch_size=40)\n",
    "print('test cost:', cost)\n",
    "W, b = model.layers[0].get_weights()\n",
    "print('Weights=', W, '\\nbiases=', b)"
   ]
  },
  {
   "cell_type": "code",
   "execution_count": 5,
   "metadata": {},
   "outputs": [
    {
     "data": {
      "image/png": "[encoded data removed]",
      "text/plain": [
       "<Figure size 432x288 with 1 Axes>"
      ]
     },
     "metadata": {
      "needs_background": "light"
     },
     "output_type": "display_data"
    }
   ],
   "source": [
    "# plotting the prediction\n",
    "Y_pred = model.predict(X_test)\n",
    "plt.scatter(X_test, Y_test)\n",
    "plt.plot(X_test, Y_pred)\n",
    "plt.show()"
   ]
  },
  {
   "cell_type": "code",
   "execution_count": null,
   "metadata": {},
   "outputs": [],
   "source": []
  }
 ],
 "metadata": {
  "kernelspec": {
   "display_name": "Python 3",
   "language": "python",
   "name": "python3"
  },
  "language_info": {
   "codemirror_mode": {
    "name": "ipython",
    "version": 3
   },
   "file_extension": ".py",
   "mimetype": "text/x-python",
   "name": "python",
   "nbconvert_exporter": "python",
   "pygments_lexer": "ipython3",
   "version": "3.5.4"
  }
 },
 "nbformat": 4,
 "nbformat_minor": 2
}
